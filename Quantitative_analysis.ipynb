{
 "cells": [
  {
   "cell_type": "markdown",
   "metadata": {},
   "source": [
    "# Quantification of shimming routines\n",
    "\n",
    "In this Notebook, the general code used for quantitative analysis of the acquired data is presented. This is just a general example, and needs to be slightly modified based on the number of shimming routines assessed. For more details on the analysis done, contact the author."
   ]
  },
  {
   "cell_type": "code",
   "execution_count": 1,
   "metadata": {},
   "outputs": [],
   "source": [
    "import nibabel as nib\n",
    "import matplotlib.pyplot as plt\n",
    "import numpy as np\n",
    "from matplotlib.ticker import FuncFormatter\n",
    "import scipy.ndimage\n",
    "from skimage.filters import threshold_otsu # For testing binary mask\n",
    "#from mpl_interactions import image_segmenter\n",
    "# %matplotlib ipympl # Uncomment if you want to use the interactive plot (drawing out ROI)\n",
    "\n",
    "# Useful packages for plotting\n",
    "from matplotlib.pyplot import GridSpec\n",
    "from matplotlib.colors import TwoSlopeNorm # For ensuring that the colorbar is symmetric around 0\n",
    "from mpl_toolkits.axes_grid1 import make_axes_locatable # To move colorbar to left-hand size of plot\n",
    "\n",
    "# Set LaTeX to render with Computer Modern font\n",
    "plt.rcParams['font.family'] = 'serif'\n",
    "plt.rcParams['font.serif'] = ['Computer Modern Roman']\n",
    "plt.rcParams['text.usetex'] = True  # Enable LaTeX rendering\n",
    "\n",
    "# The directoy to the specific scan's data\n",
    "folder_data = '/Volumes/MasterStud/SCANS_shim_vol_2/SCANS/'"
   ]
  },
  {
   "cell_type": "code",
   "execution_count": 2,
   "metadata": {},
   "outputs": [],
   "source": [
    "# The difference in echo time for both field maps (confirmed equal from protocol-pdf)\n",
    "tau = (5.1 - 4.08) * 1e-3    # [ms] --> [s]"
   ]
  },
  {
   "cell_type": "markdown",
   "metadata": {},
   "source": [
    "## Load the NIfTY files"
   ]
  },
  {
   "cell_type": "code",
   "execution_count": 3,
   "metadata": {},
   "outputs": [],
   "source": [
    "def load_nifti(file, sequence, calc_field_map = False):\n",
    "    ''' Load the NIfTI file, return the correctly oriented data based on sequence. If calc_field_map is True, the data is rescaled to be between -pi and pi, and converted to Hz.\n",
    "    Input:\n",
    "        file: str, path to the NIfTI file\n",
    "        sequence: str, the sequence type ('fieldmap', 'ME_GRE', 'EPI')\n",
    "        calc_field_map: bool, whether to calculate the field map\n",
    "    Output:\n",
    "        data: np.ndarray, the 3D image data\n",
    "    '''\n",
    "    # Load the file\n",
    "    img = nib.load(file)\n",
    "    data = img.get_fdata()\n",
    "\n",
    "    if calc_field_map:\n",
    "        # Get absolute maximum of phase image\n",
    "        absmax = np.max(np.abs(data))\n",
    "\n",
    "        # Rescale to be between -pi and pi\n",
    "        data = data / absmax * np.pi\n",
    "\n",
    "        # Convert the field map units to Hz (as eq. 2.18 in project thesis)\n",
    "        data = data / (2 * np.pi * tau)\n",
    "\n",
    "    # Rotate the data based on type of sequence\n",
    "    if sequence == 'fieldmap':\n",
    "        # Field maps are rotated clockwise and flipped upside down\n",
    "        data = np.rot90(data, -1)\n",
    "        data = np.flip(data, axis = 0)\n",
    "\n",
    "    elif sequence == 'ME_GRE':\n",
    "        # ME_GRE is rotated 90 degrees counter-clockwise\n",
    "        data = np.rot90(data, 1)\n",
    "\n",
    "    elif sequence == 'EPI':\n",
    "        # EPI is rotated 90 degrees counter-clockwise and flipped upside down\n",
    "        data = np.rot90(data, -1)\n",
    "        data = np.flip(data, axis = 0)\n",
    "    else:\n",
    "        raise ValueError(\"Invalid sequence type. Must be 'fieldmap', 'ME_GRE', or 'EPI'.\")\n",
    "    \n",
    "    return data"
   ]
  },
  {
   "cell_type": "code",
   "execution_count": 4,
   "metadata": {},
   "outputs": [],
   "source": [
    "# Example usage of load_nifti\n",
    "# Directory field map\n",
    "dir_field_map_small_mean = folder_data + 'B0_small_ph/B0_small_ph_mean.nii.gz'\n",
    "\n",
    "# Directory ME-GRE image\n",
    "dir_small_C6 = folder_data + 'MGE_5TE_C6_small/MGE_5TE_C6_small_e1.nii.gz'\n",
    "\n",
    "# Directory EPI image\n",
    "dir_small_C6_mean = folder_data + 'EPI_C6_small/mean_EPI_C6_small.nii.gz'\n",
    "\n",
    "# Load and rotate the images to correct orientation\n",
    "field_map_C6 = load_nifti(dir_field_map_small_mean, 'fieldmap', calc_field_map = True)\n",
    "me_gre_C6 = load_nifti(dir_small_C6, 'ME_GRE')\n",
    "epi_C6 = load_nifti(dir_small_C6_mean, 'EPI')"
   ]
  },
  {
   "cell_type": "markdown",
   "metadata": {},
   "source": [
    "## Extract ROI from SCT automatic segmentation\n",
    "\n",
    "Details on the commands used to segment, as well as which images used as basis is found the Methods-section of the Master's thesis."
   ]
  },
  {
   "cell_type": "code",
   "execution_count": 5,
   "metadata": {},
   "outputs": [],
   "source": [
    "def extract_roi(dir_roi, dir = True, sequence = None, all_echos = None):\n",
    "    ''' Extract the region of interest (ROI) from the NIfTI file. If dir is True, load the ROI from the file. If dir is False, use the already loaded ROI. If ME-GRE apply the ROI to all echos.\n",
    "    Input:\n",
    "        dir_roi: str, path to the NIfTI file containing the ROI\n",
    "        dir: bool, whether to load the ROI from the file\n",
    "        all_echos: list of np.ndarray, the ME-GRE images for each echo time\n",
    "    Output:\n",
    "        all_echos_roi: list of np.ndarray, the ME-GRE images for each echo time with the ROI applied\n",
    "    '''\n",
    "    # Load the ROI (can either load the roi or use the roi already loaded)\n",
    "    if dir:\n",
    "        roi = load_nifti(dir_roi, sequence)\n",
    "    else:\n",
    "        roi = dir_roi # ROI already loaded\n",
    "\n",
    "    # For ME-GRE, apply the ROI to all echos\n",
    "    if all_echos is not None:\n",
    "        all_echos_roi = []\n",
    "        for echos in all_echos:\n",
    "            echo_roi = np.where(roi > 0.1, echos, np.nan) # 0.1 to threshold a non-binary mask due to transformation mp2rage to ME-GRE\n",
    "            all_echos_roi.append(echo_roi)\n",
    "        roi_data = all_echos_roi\n",
    "    # If EPI or field map, directly apply the ROI to the image\n",
    "    else:\n",
    "        roi_data = np.where(roi > 0.1, 1, np.nan) # 0.1 ensures that a transformed mask from MP2RAGE  does not include 'ripples' in the mask\n",
    "\n",
    "    return roi_data"
   ]
  },
  {
   "cell_type": "code",
   "execution_count": 6,
   "metadata": {},
   "outputs": [],
   "source": [
    "# Example usage\n",
    "# ROI field map\n",
    "segmentation_field_map = extract_roi(folder_data + 'mp2rage/transformed_B0_small_rms_seg.nii.gz', sequence = 'fieldmap', dir = True)\n",
    "\n",
    "# ROI ME-GRE\n",
    "segmentation_me_gre = extract_roi(folder_data + 'MGE_5TE_C6_small/rms_image_C6_small_seg.nii.gz', sequence = 'ME_GRE', dir = True, all_echos = me_gre_C6)\n",
    "\n",
    "# ROI EPI\n",
    "segmentation_epi = extract_roi(folder_data + 'EPI_C6_small/mean_EPI_C6_small_seg_manual_corrected.nii.gz', sequence = 'EPI', dir = True)\n"
   ]
  },
  {
   "cell_type": "markdown",
   "metadata": {},
   "source": [
    "----"
   ]
  },
  {
   "cell_type": "markdown",
   "metadata": {},
   "source": [
    "## $B_0$ field maps\n",
    "\n",
    "The analysis of the $B_0$ field maps include calculating the Hz field map and the gradient field map. A labeled spinal cord by vertebral level, using SCT, is used for regional analysis of the spinal cord.\n",
    "\n",
    "### Common ROI\n",
    "\n",
    "The field maps uses a common ROI to ensure equal amounts of voxels across the different shimming routines."
   ]
  },
  {
   "cell_type": "code",
   "execution_count": 7,
   "metadata": {},
   "outputs": [],
   "source": [
    "def find_common_roi(rois, img_affine, save = False):\n",
    "    '''Find the common region of interest (ROI) between field maps of different acquisitions.\n",
    "    Input:\n",
    "        rois: list of np.ndarray, the ROIs for each acquisition\n",
    "        save: bool, whether to save the common ROI as a NIfTI file\n",
    "    Output:\n",
    "        common_roi: np.ndarray, the common ROI\n",
    "    '''\n",
    "    common_voxels = []\n",
    "    for i in range(len(rois) - 1):\n",
    "        # Get the data for each ROI\n",
    "        roi = rois[i]\n",
    "        if i == 0:\n",
    "            common_voxels = np.logical_and(np.isfinite(roi), np.isfinite(rois[i + 1])) # np.isfinite() is exclude NaN-values\n",
    "        else:\n",
    "            common_voxels = np.logical_and(common_voxels, np.isfinite(rois[i + 1]))\n",
    "\n",
    "    # Make an inital common ROI to ensure equal size\n",
    "    common_roi = np.full(rois[0].shape, np.nan)\n",
    "\n",
    "    # Set the common voxels to 1 inside the common ROI\n",
    "    common_roi[common_voxels] = 1\n",
    "\n",
    "    if save:\n",
    "        common_roi_save = np.rot90(common_roi, 1)\n",
    "        # Flip the images on the horizontal axis (upside-down)\n",
    "        common_roi_save = np.flip(common_roi_save, axis=1)\n",
    "\n",
    "        common_roi_nifti = nib.Nifti1Image(common_roi_save, affine=img_affine.affine)\n",
    "        nib.save(common_roi_nifti, folder_data + 'common_roi_2.nii.gz')\n",
    "\n",
    "    return common_roi"
   ]
  },
  {
   "cell_type": "code",
   "execution_count": 8,
   "metadata": {},
   "outputs": [],
   "source": [
    "# Example usage\n",
    "# Load another field map to extract common roi from \n",
    "dir_field_map_2 = 'B0_mini_ph/B0_mini_ph_mean.nii.gz'\n",
    "field_map_C6_2 = load_nifti(folder_data + dir_field_map_2, 'fieldmap', calc_field_map = True)\n",
    "segmentation_field_map_2 = extract_roi(folder_data + 'mp2rage/transformed_B0_mini_rms_seg.nii.gz', sequence = 'fieldmap', dir = True)\n",
    "\n",
    "common_roi = find_common_roi([segmentation_field_map, segmentation_field_map_2], field_map_C6, save = False)"
   ]
  },
  {
   "cell_type": "markdown",
   "metadata": {},
   "source": [
    "### Labeled segmentation by vertebral level"
   ]
  },
  {
   "cell_type": "code",
   "execution_count": 9,
   "metadata": {},
   "outputs": [],
   "source": [
    "# Define the colormap for labeled vertebrae with distinct colors\n",
    "cmap = plt.get_cmap('tab20') # use this colormap when plotting the labeled vertebral levels\n",
    "\n",
    "# Dictionary to map integer labels to vertebral level names\n",
    "label_dict = {\n",
    "    1: 'C1',\n",
    "    2: 'C2',\n",
    "    3: 'C3',\n",
    "    4: 'C4',\n",
    "    5: 'C5',\n",
    "    6: 'C6',\n",
    "    7: 'C7',\n",
    "    8: 'T1',\n",
    "    9: 'T2',\n",
    "    10: 'T3'\n",
    "}"
   ]
  },
  {
   "cell_type": "code",
   "execution_count": 10,
   "metadata": {},
   "outputs": [],
   "source": [
    "# Load the labeled common ROI\n",
    "common_roi_labeled = load_nifti(folder_data + 'common_roi_manual_cropped_labeled.nii.gz', sequence = 'fieldmap') # ROI from mp2rage transformed to RMS.\n",
    "\n",
    "# Make all 0 values NaN for better visualizationin plots\n",
    "common_roi_labeled[common_roi_labeled == 0] = np.nan"
   ]
  },
  {
   "cell_type": "markdown",
   "metadata": {},
   "source": [
    "### Mask vertebrae for better visualizations\n",
    "\n",
    "Binary mask by threshold_otsu was investigated, but showed poor results as the signal variation in the vertebrae was high. Additionally, regions furhter away from the receiver coil was canceled out as well."
   ]
  },
  {
   "cell_type": "code",
   "execution_count": 11,
   "metadata": {},
   "outputs": [],
   "source": [
    "slice_idx = 20 # CHANGE based on what slice you manually segmented\n",
    "dir_mask_onlyVertebra = 'vertebrae_B0.nii.gz'\n",
    "\n",
    "# Load the nifty image and orient correctly\n",
    "mask_img_onlyVertebra = load_nifti(folder_data + dir_mask_onlyVertebra, calc_field_map=False, sequence = 'fieldmap')\n",
    "\n",
    "# Convert to mask out the regions drawn as voi (vertebrae and background)\n",
    "mask_img_onlyVertebra = np.logical_not(mask_img_onlyVertebra)\n",
    "\n",
    "# Example usage\n",
    "field_map_C6_vertebra = field_map_C6 * mask_img_onlyVertebra"
   ]
  },
  {
   "cell_type": "markdown",
   "metadata": {},
   "source": [
    "### Regional standard deviation $B_0$ field maps"
   ]
  },
  {
   "cell_type": "code",
   "execution_count": 12,
   "metadata": {},
   "outputs": [],
   "source": [
    "def calc_std(num_labels, data):\n",
    "    ''' Calculate the standard deviation of the data for each label in the labeled common ROI.\n",
    "    Input:\n",
    "        num_labels: int, the number of labels in the labeled common ROI (8 for C7, 10 for T2)\n",
    "        data: np.ndarray, the data to calculate the standard deviation for\n",
    "    Output:\n",
    "        std: np.ndarray, the standard deviation of the data for each label\n",
    "        std_all: list of np.ndarray, the standard deviation of the data for each label in the common ROI\n",
    "        std_total: float, the overall standard deviation of the data in the restricted common ROI\n",
    "        mean_std: float, the mean standard deviation of the data in the restricted common ROI\n",
    "    '''\n",
    "    std_all = []\n",
    "    std = []\n",
    "\n",
    "    for label in range(1, num_labels):\n",
    "        # Find the data of the current label\n",
    "        label_data = np.where(common_roi_labeled == label, data, np.nan)\n",
    "\n",
    "        if np.sum(label_data) == 0:\n",
    "            # If the label data is empty, append NaN to the list\n",
    "            std.append(np.nan)\n",
    "            std_all.append(np.nan)\n",
    "            continue\n",
    "        else:\n",
    "            # Calculate the standard deviation of the data for the current label\n",
    "            std_label = np.nanstd(label_data)\n",
    "\n",
    "            # Append the standard deviation to the list\n",
    "            std.append(std_label)\n",
    "\n",
    "            # Append the label data to the list for overall standard deviation calculation in specified regions\n",
    "            std_all.append(label_data)\n",
    "    \n",
    "    std_total = np.nanstd(std_all)\n",
    "    mean_std = np.nanmean(std_all)\n",
    "\n",
    "    return std, std_all, std_total, mean_std"
   ]
  },
  {
   "cell_type": "code",
   "execution_count": 13,
   "metadata": {},
   "outputs": [
    {
     "name": "stdout",
     "output_type": "stream",
     "text": [
      "Standard deviation of field map C6: [np.float64(17.596926570775786), np.float64(19.97078606134873), np.float64(23.07244072448711), np.float64(20.807329609970004), np.float64(17.13222397738255), np.float64(18.123157613395104), np.float64(15.012852856841398)]\n",
      "Standard deviation of field map C6 in common ROI: 33.918216996164276\n",
      "Mean standard deviation of field map C6 in common ROI: 33.12693635153189\n"
     ]
    }
   ],
   "source": [
    "# Example usage\n",
    "std_field_map, std_all_field_map, std_total_field_map, mean_std_field_map = calc_std(num_labels = 8, data = field_map_C6)\n",
    "\n",
    "print(f'Standard deviation of field map C6: {std_field_map}')\n",
    "print(f'Standard deviation of field map C6 in common ROI: {std_total_field_map}')\n",
    "print(f'Mean standard deviation of field map C6 in common ROI: {mean_std_field_map}')"
   ]
  },
  {
   "cell_type": "markdown",
   "metadata": {},
   "source": [
    "### Gradient field maps"
   ]
  },
  {
   "cell_type": "code",
   "execution_count": 14,
   "metadata": {},
   "outputs": [],
   "source": [
    "def gaussian_smooth(field_map, sigma_s):\n",
    "    '''Smooth the field map using a Gaussian filter.\n",
    "    Input:\n",
    "        field_map: np.ndarray, the field map to smooth\n",
    "        sigma_s: float, the standard deviation of the Gaussian filter\n",
    "    Output:\n",
    "        field_map_smooth: np.ndarray, the smoothed field map\n",
    "    '''\n",
    "    # Smooth the field map using a Gaussian filter\n",
    "    field_map_smooth = scipy.ndimage.gaussian_filter(field_map, sigma=sigma_s)\n",
    "    \n",
    "    return field_map_smooth"
   ]
  },
  {
   "cell_type": "code",
   "execution_count": 15,
   "metadata": {},
   "outputs": [],
   "source": [
    "# Example usage\n",
    "field_map_smooth = gaussian_smooth(field_map_C6_vertebra, sigma_s = 0.7)"
   ]
  },
  {
   "cell_type": "code",
   "execution_count": 16,
   "metadata": {},
   "outputs": [],
   "source": [
    "# Calculate the field gradients\n",
    "def calcGradients(field_map, axis = 1): \n",
    "    ''' Calculate the field gradients along the specified axis.\n",
    "    Input:\n",
    "        field_map: np.ndarray, the field map data\n",
    "        axis: int, the axis to calculate the gradient along (0 = x, 1 = y, 2 = z)\n",
    "    Output:\n",
    "        grad_map: np.ndarray, the gradient map\n",
    "    '''\n",
    "    # Move the top line to the bottom\n",
    "    rolled = np.roll(field_map, shift=-1, axis=axis) # shift = -1: Move top line to bottom\n",
    "\n",
    "    # Calculate the local gradeint along the axis by subtracting the original\n",
    "    grad_map =rolled - field_map\n",
    "\n",
    "    # Divide by the voxel size to get [Hz/mm]\n",
    "    grad_map = grad_map / 1.0 # Isotropic voxels (1x1x1mm^3)\n",
    "\n",
    "    return grad_map"
   ]
  },
  {
   "cell_type": "code",
   "execution_count": 17,
   "metadata": {},
   "outputs": [],
   "source": [
    "# Example usage\n",
    "grad_map_z_smooth = calcGradients(field_map_smooth, axis = 1) # Gradient along the z-axis"
   ]
  },
  {
   "cell_type": "code",
   "execution_count": 18,
   "metadata": {},
   "outputs": [],
   "source": [
    "def modulerize(grad_map):\n",
    "    ''' Calculate the magnitude of the field map.\n",
    "    Input:\n",
    "        field_map: np.ndarray, the field map to calculate the magnitude for\n",
    "    Output:\n",
    "        field_map_magnitude: np.ndarray, the magnitude of the field map\n",
    "    '''\n",
    "    # Calculate the magnitude of the field map\n",
    "    grad_map_magnitude = np.sqrt(grad_map**2)\n",
    "\n",
    "    return grad_map_magnitude"
   ]
  },
  {
   "cell_type": "code",
   "execution_count": 19,
   "metadata": {},
   "outputs": [],
   "source": [
    "# Example usage\n",
    "grad_map_magn_z_smooth = modulerize(grad_map_z_smooth)"
   ]
  },
  {
   "cell_type": "code",
   "execution_count": 20,
   "metadata": {},
   "outputs": [],
   "source": [
    "def gradient_quantification(gradient_map_smooth, num_labels, common_roi_labeled):\n",
    "    '''Quantify the gradients in the common ROI.\n",
    "    Input:\n",
    "        gradient_map_smooth: np.ndarray, the smoothed gradient map\n",
    "        num_labels: int, the number of labels in the labeled common ROI\n",
    "        common_roi_labeled: np.ndarray, the labeled common ROI\n",
    "    Output:\n",
    "        mean_gradients: list of float, the mean gradient values for each label\n",
    "    '''\n",
    "    mean_gradients = []\n",
    "    for label in range(1, num_labels):\n",
    "        # Extract the gradient values for the specified label\n",
    "        gradient_values = np.where(common_roi_labeled == label, gradient_map_smooth, np.nan)\n",
    "\n",
    "        # Calculate the mean and median gradient values\n",
    "        mean_gradient = np.nanmean(gradient_values)\n",
    "\n",
    "        mean_gradients.append(mean_gradient)\n",
    "\n",
    "    return mean_gradients"
   ]
  },
  {
   "cell_type": "code",
   "execution_count": 21,
   "metadata": {},
   "outputs": [
    {
     "name": "stdout",
     "output_type": "stream",
     "text": [
      "Mean gradients of field map C6: [np.float64(3.0145313184535083), np.float64(3.48326270654192), np.float64(5.376554128414262), np.float64(4.67927460873041), np.float64(3.683796895452379), np.float64(3.3467852471662987), np.float64(4.1033733997826545)]\n"
     ]
    }
   ],
   "source": [
    "# Example usage\n",
    "mean_gradients_field_map = gradient_quantification(grad_map_magn_z_smooth, num_labels = 8, common_roi_labeled = common_roi_labeled)\n",
    "print(f'Mean gradients of field map C6: {mean_gradients_field_map}')"
   ]
  },
  {
   "cell_type": "markdown",
   "metadata": {},
   "source": [
    "----"
   ]
  },
  {
   "cell_type": "markdown",
   "metadata": {},
   "source": [
    "## ME-GRE and signal loss across echoes\n",
    "\n",
    "The analysis of signal loss in ME-GRE images revolves around the intensity ratio of the last (fifth) and first echo of the acquisition. The mean axial intensity rtio $dI4 is calculated andcompared across shimming routines.\n",
    "\n",
    "### Chioce of quantification metric"
   ]
  },
  {
   "cell_type": "code",
   "execution_count": 22,
   "metadata": {},
   "outputs": [],
   "source": [
    "def calc_metrics_dI(dI, num_slices):\n",
    "    '''\n",
    "    Function to caluclate metrics to quntify signal loss for a shimming algorithm using the intensity ratio dI. \n",
    "    NB: Takes in the entire list of dI values for all slices.\n",
    "    Input:\n",
    "        dI: np.ndarray, the intensity ratio data\n",
    "        num_slices: int, the number of slices in the data\n",
    "    Output:\n",
    "        mean: list of float, the mean dI values for each slice\n",
    "        std: list of float, the standard deviation of dI values for each slice\n",
    "        median: list of float, the median dI values for each slice\n",
    "        local_val: list of float, the local 10th percentile dI values for each slice\n",
    "        percentile_10_global: float, the global 10th percentile of dI values\n",
    "        percentile_10_all: float, the overall 10th percentile of all slices\n",
    "        diff_mean_median: list of float, the difference between mean and median dI values for each slice\n",
    "    '''\n",
    "    \n",
    "    mean = []\n",
    "    std = []\n",
    "    median = []\n",
    "    local_val = []\n",
    "\n",
    "    # Difference between mean and median\n",
    "    diff_mean_median = []\n",
    "\n",
    "    # Get the global 10th percentile (lower 10th percentile of the 10th percentile): Lower threshold for quatification\n",
    "    percentile_10_global = np.nanpercentile([np.nanpercentile(dI[:, :, k], 10) for k in range(num_slices)], 10)\n",
    "\n",
    "    # Get the overall 10th percentile of all slices\n",
    "    all_voxels = np.concatenate([dI[:, :, k] for k in range(num_slices)])\n",
    "    percentile_10_all = np.nanpercentile(all_voxels, 10)\n",
    "\n",
    "    for i in range(num_slices):\n",
    "        # Caclulate the mean\n",
    "        mean.append(np.nanmean(dI[:, :, i]))\n",
    "\n",
    "        # Standard deviation\n",
    "        std.append(np.nanstd(dI[:, :, i]))\n",
    "\n",
    "        # Median\n",
    "        median.append(np.nanmedian(dI[:, :, i]))\n",
    "\n",
    "        # Local value of 10th percentile\n",
    "        local_val.append(np.nanpercentile(dI[:, :, i], 10))\n",
    "\n",
    "        # Difference between mean and median\n",
    "        diff_mean_median.append(mean[i] - median[i])\n",
    "\n",
    "    return mean, std, median, local_val, percentile_10_global, percentile_10_all, diff_mean_median"
   ]
  },
  {
   "cell_type": "code",
   "execution_count": 23,
   "metadata": {},
   "outputs": [],
   "source": [
    "def format_func(value):\n",
    "    return f'{value:.2f}'  # Change the number of decimals here\n",
    "\n",
    "def plot_all_algs(data1, data2, metric, data3 = None, report = False):\n",
    "    ''' Example of plotting the data for two or three shimming routines.\n",
    "    Input:\n",
    "        data1: np.ndarray, the first data to plot\n",
    "        data2: np.ndarray, the second data to plot\n",
    "        metric: str, the metric to plot (e.g. 'mean', 'std', 'median', 'local_val', 'percentile_10_global', 'percentile_10_all', 'diff_mean_median')\n",
    "        data3: np.ndarray, the third data to plot (optional)\n",
    "        report: bool, whether to include a title in the plot\n",
    "    Output:\n",
    "        None\n",
    "    '''\n",
    "    plt.figure(figsize=(10, 5))\n",
    "    plt.plot(data1[::-1], label='Data 1', color='blue')\n",
    "    plt.plot(data2[::-1], label='Data 2', color='red')\n",
    "    if data3 is not None:\n",
    "        plt.plot(data3[::-1], label='Data 3', color='#17becf')\n",
    "    plt.xlabel('Slice', fontsize = 28)\n",
    "    plt.ylabel(f'{metric} dI', fontsize = 28)\n",
    "    \n",
    "    plt.gca().yaxis.set_major_formatter(FuncFormatter(format_func))\n",
    "\n",
    "    # Set the font size for the tick labels\n",
    "    plt.tick_params(axis='both', which='major', labelsize=26)\n",
    "    \n",
    "    if report == False:\n",
    "        #plt.title(f'{metric} for all algorithms')\n",
    "        plt.legend(fontsize = 22)\n",
    "    plt.grid()\n",
    "    plt.show()"
   ]
  },
  {
   "cell_type": "markdown",
   "metadata": {},
   "source": [
    "### Intensity ratio maps\n",
    "\n",
    "In the following cell, ane xample on how to obtain the intensity ratio map is shown."
   ]
  },
  {
   "cell_type": "code",
   "execution_count": 24,
   "metadata": {},
   "outputs": [
    {
     "data": {
      "image/png": "[encoded data removed]",
      "text/plain": [
       "<Figure size 1000x400 with 2 Axes>"
      ]
     },
     "metadata": {},
     "output_type": "display_data"
    }
   ],
   "source": [
    "dI_me_gre = segmentation_me_gre[4] / segmentation_me_gre[0] # dI = I5 / I1\n",
    "\n",
    "\n",
    "plt.figure(figsize=(10, 4))\n",
    "plt.imshow(np.flipud(np.rot90(dI_me_gre[:, dI_me_gre.shape[1] // 2 + 1, :], -1)), aspect='auto') # Flip and rotate for correct orientation\n",
    "plt.axis('off')\n",
    "plt.title('dI ME-GRE C6')\n",
    "plt.colorbar(label = 'A.U.')\n",
    "plt.show()"
   ]
  },
  {
   "cell_type": "markdown",
   "metadata": {},
   "source": [
    "---"
   ]
  },
  {
   "cell_type": "markdown",
   "metadata": {},
   "source": [
    "## EPI\n",
    "\n",
    "Calculate the SNR inside the semi-automatically segmented spinal cord from dividing the mean signal by the noise (standard deviation)."
   ]
  },
  {
   "cell_type": "code",
   "execution_count": 25,
   "metadata": {},
   "outputs": [],
   "source": [
    "def calc_SNR(image_roi):\n",
    "    ''' Calculate the signal-to-noise ratio (SNR) for the axial slices of the image.\n",
    "    Input:\n",
    "        image_roi: np.ndarray, the image data with the ROI applied\n",
    "    Output:\n",
    "        SNR: list of float, the SNR for each axial slice\n",
    "    '''\n",
    "    # Calculate the SNR for axial slices\n",
    "    SNR = []\n",
    "    for i in range(image_roi.shape[2]):\n",
    "        signal = np.nanmean(image_roi[:, :, i])\n",
    "        noise = np.nanstd(image_roi[:, :, i])\n",
    "        SNR.append(signal / noise)\n",
    "        \n",
    "    return SNR"
   ]
  }
 ],
 "metadata": {
  "kernelspec": {
   "display_name": "master_thesis",
   "language": "python",
   "name": "python3"
  },
  "language_info": {
   "codemirror_mode": {
    "name": "ipython",
    "version": 3
   },
   "file_extension": ".py",
   "mimetype": "text/x-python",
   "name": "python",
   "nbconvert_exporter": "python",
   "pygments_lexer": "ipython3",
   "version": "3.13.1"
  }
 },
 "nbformat": 4,
 "nbformat_minor": 2
}
